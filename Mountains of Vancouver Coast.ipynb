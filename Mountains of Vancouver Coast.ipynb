{
 "cells": [
  {
   "cell_type": "markdown",
   "metadata": {},
   "source": [
    "# Mountains in Vancouver Coast"
   ]
  },
  {
   "cell_type": "markdown",
   "metadata": {},
   "source": [
    "Mountains of Southwest (Mainland) BC "
   ]
  },
  {
   "cell_type": "code",
   "execution_count": 1,
   "metadata": {
    "tags": []
   },
   "outputs": [
    {
     "name": "stdout",
     "output_type": "stream",
     "text": [
      "Requirement already up-to-date: seaborn in c:\\users\\jujha\\appdata\\local\\programs\\python\\python36-32\\lib\\site-packages\n",
      "Requirement already up-to-date: numpy>=1.15 in c:\\users\\jujha\\appdata\\local\\programs\\python\\python36-32\\lib\\site-packages (from seaborn)\n",
      "Requirement already up-to-date: pandas>=0.23 in c:\\users\\jujha\\appdata\\local\\programs\\python\\python36-32\\lib\\site-packages (from seaborn)\n",
      "Requirement already up-to-date: scipy>=1.0 in c:\\users\\jujha\\appdata\\local\\programs\\python\\python36-32\\lib\\site-packages (from seaborn)\n",
      "Requirement already up-to-date: matplotlib>=2.2 in c:\\users\\jujha\\appdata\\local\\programs\\python\\python36-32\\lib\\site-packages (from seaborn)\n",
      "Requirement already up-to-date: pytz>=2017.2 in c:\\users\\jujha\\appdata\\local\\programs\\python\\python36-32\\lib\\site-packages (from pandas>=0.23->seaborn)\n",
      "Requirement already up-to-date: python-dateutil>=2.7.3 in c:\\users\\jujha\\appdata\\local\\programs\\python\\python36-32\\lib\\site-packages (from pandas>=0.23->seaborn)\n",
      "Requirement already up-to-date: kiwisolver>=1.0.1 in c:\\users\\jujha\\appdata\\local\\programs\\python\\python36-32\\lib\\site-packages (from matplotlib>=2.2->seaborn)\n",
      "Requirement already up-to-date: cycler>=0.10 in c:\\users\\jujha\\appdata\\local\\programs\\python\\python36-32\\lib\\site-packages (from matplotlib>=2.2->seaborn)\n",
      "Requirement already up-to-date: pyparsing!=2.0.4,!=2.1.2,!=2.1.6,>=2.0.3 in c:\\users\\jujha\\appdata\\local\\programs\\python\\python36-32\\lib\\site-packages (from matplotlib>=2.2->seaborn)\n",
      "Requirement already up-to-date: pillow>=6.2.0 in c:\\users\\jujha\\appdata\\local\\programs\\python\\python36-32\\lib\\site-packages (from matplotlib>=2.2->seaborn)\n",
      "Requirement already up-to-date: six>=1.5 in c:\\users\\jujha\\appdata\\local\\programs\\python\\python36-32\\lib\\site-packages (from python-dateutil>=2.7.3->pandas>=0.23->seaborn)\n"
     ]
    },
    {
     "name": "stderr",
     "output_type": "stream",
     "text": [
      "You are using pip version 9.0.1, however version 21.0.1 is available.\n",
      "You should consider upgrading via the 'python -m pip install --upgrade pip' command.\n"
     ]
    }
   ],
   "source": [
    "! pip install seaborn --upgrade"
   ]
  },
  {
   "cell_type": "code",
   "execution_count": 2,
   "metadata": {},
   "outputs": [
    {
     "data": {
      "text/plain": [
       "'1.1.5'"
      ]
     },
     "execution_count": 2,
     "metadata": {},
     "output_type": "execute_result"
    }
   ],
   "source": [
    "import pandas as pd\n",
    "import numpy as np\n",
    "import matplotlib.pyplot as plt\n",
    "pd.__version__"
   ]
  },
  {
   "cell_type": "code",
   "execution_count": 5,
   "metadata": {},
   "outputs": [
    {
     "data": {
      "text/html": [
       "<div>\n",
       "<style scoped>\n",
       "    .dataframe tbody tr th:only-of-type {\n",
       "        vertical-align: middle;\n",
       "    }\n",
       "\n",
       "    .dataframe tbody tr th {\n",
       "        vertical-align: top;\n",
       "    }\n",
       "\n",
       "    .dataframe thead th {\n",
       "        text-align: right;\n",
       "    }\n",
       "</style>\n",
       "<table border=\"1\" class=\"dataframe\">\n",
       "  <thead>\n",
       "    <tr style=\"text-align: right;\">\n",
       "      <th></th>\n",
       "      <th>Mountain</th>\n",
       "      <th>Elevation (m)</th>\n",
       "    </tr>\n",
       "  </thead>\n",
       "  <tbody>\n",
       "    <tr>\n",
       "      <th>0</th>\n",
       "      <td>Blanshard Peak</td>\n",
       "      <td>1550</td>\n",
       "    </tr>\n",
       "    <tr>\n",
       "      <th>1</th>\n",
       "      <td>Mount Burke</td>\n",
       "      <td>1270</td>\n",
       "    </tr>\n",
       "    <tr>\n",
       "      <th>2</th>\n",
       "      <td>Burnaby Mountain</td>\n",
       "      <td>370</td>\n",
       "    </tr>\n",
       "    <tr>\n",
       "      <th>3</th>\n",
       "      <td>Canadian Border Peak</td>\n",
       "      <td>2291</td>\n",
       "    </tr>\n",
       "    <tr>\n",
       "      <th>4</th>\n",
       "      <td>Cheam Peak</td>\n",
       "      <td>2104</td>\n",
       "    </tr>\n",
       "    <tr>\n",
       "      <th>5</th>\n",
       "      <td>Chilliwack Mountain</td>\n",
       "      <td>340</td>\n",
       "    </tr>\n",
       "    <tr>\n",
       "      <th>6</th>\n",
       "      <td>Mount Crickmer</td>\n",
       "      <td>1359</td>\n",
       "    </tr>\n",
       "    <tr>\n",
       "      <th>7</th>\n",
       "      <td>Edge Peak</td>\n",
       "      <td>1680</td>\n",
       "    </tr>\n",
       "    <tr>\n",
       "      <th>8</th>\n",
       "      <td>The Forefinger</td>\n",
       "      <td>1741</td>\n",
       "    </tr>\n",
       "    <tr>\n",
       "      <th>9</th>\n",
       "      <td>Golden Ears</td>\n",
       "      <td>1716</td>\n",
       "    </tr>\n",
       "    <tr>\n",
       "      <th>10</th>\n",
       "      <td>Grouse</td>\n",
       "      <td>1231</td>\n",
       "    </tr>\n",
       "    <tr>\n",
       "      <th>11</th>\n",
       "      <td>Harrison Hill</td>\n",
       "      <td>622</td>\n",
       "    </tr>\n",
       "    <tr>\n",
       "      <th>12</th>\n",
       "      <td>Hope Mountain</td>\n",
       "      <td>1844</td>\n",
       "    </tr>\n",
       "    <tr>\n",
       "      <th>13</th>\n",
       "      <td>Mount Judge Howay</td>\n",
       "      <td>2262</td>\n",
       "    </tr>\n",
       "    <tr>\n",
       "      <th>14</th>\n",
       "      <td>Little Mountain</td>\n",
       "      <td>125</td>\n",
       "    </tr>\n",
       "    <tr>\n",
       "      <th>15</th>\n",
       "      <td>Nicomen Mountain</td>\n",
       "      <td>1221</td>\n",
       "    </tr>\n",
       "    <tr>\n",
       "      <th>16</th>\n",
       "      <td>The Old Settler</td>\n",
       "      <td>2132</td>\n",
       "    </tr>\n",
       "    <tr>\n",
       "      <th>17</th>\n",
       "      <td>Mount Robie Reid</td>\n",
       "      <td>2095</td>\n",
       "    </tr>\n",
       "    <tr>\n",
       "      <th>18</th>\n",
       "      <td>Mount Seymour</td>\n",
       "      <td>1449</td>\n",
       "    </tr>\n",
       "    <tr>\n",
       "      <th>19</th>\n",
       "      <td>Slesse Mountain</td>\n",
       "      <td>2439</td>\n",
       "    </tr>\n",
       "    <tr>\n",
       "      <th>20</th>\n",
       "      <td>Mount Strachan</td>\n",
       "      <td>1440</td>\n",
       "    </tr>\n",
       "    <tr>\n",
       "      <th>21</th>\n",
       "      <td>Sumas Mountain</td>\n",
       "      <td>910</td>\n",
       "    </tr>\n",
       "    <tr>\n",
       "      <th>22</th>\n",
       "      <td>Skagit Range</td>\n",
       "      <td>3285</td>\n",
       "    </tr>\n",
       "    <tr>\n",
       "      <th>23</th>\n",
       "      <td>Welch Peak</td>\n",
       "      <td>2431</td>\n",
       "    </tr>\n",
       "    <tr>\n",
       "      <th>24</th>\n",
       "      <td>West Lion</td>\n",
       "      <td>1654</td>\n",
       "    </tr>\n",
       "  </tbody>\n",
       "</table>\n",
       "</div>"
      ],
      "text/plain": [
       "                Mountain  Elevation (m)\n",
       "0         Blanshard Peak           1550\n",
       "1            Mount Burke           1270\n",
       "2       Burnaby Mountain            370\n",
       "3   Canadian Border Peak           2291\n",
       "4             Cheam Peak           2104\n",
       "5    Chilliwack Mountain            340\n",
       "6         Mount Crickmer           1359\n",
       "7              Edge Peak           1680\n",
       "8         The Forefinger           1741\n",
       "9            Golden Ears           1716\n",
       "10                Grouse           1231\n",
       "11         Harrison Hill            622\n",
       "12         Hope Mountain           1844\n",
       "13     Mount Judge Howay           2262\n",
       "14       Little Mountain            125\n",
       "15      Nicomen Mountain           1221\n",
       "16       The Old Settler           2132\n",
       "17      Mount Robie Reid           2095\n",
       "18         Mount Seymour           1449\n",
       "19       Slesse Mountain           2439\n",
       "20        Mount Strachan           1440\n",
       "21        Sumas Mountain            910\n",
       "22          Skagit Range           3285\n",
       "23            Welch Peak           2431\n",
       "24             West Lion           1654"
      ]
     },
     "execution_count": 5,
     "metadata": {},
     "output_type": "execute_result"
    }
   ],
   "source": [
    "data=pd.read_csv(\"rebabre__mountains.csv\")\n",
    "data[['Mountain', 'Elevation (m)']]"
   ]
  },
  {
   "cell_type": "markdown",
   "metadata": {},
   "source": [
    "# Mountains in Vancouver Coast"
   ]
  },
  {
   "cell_type": "code",
   "execution_count": 4,
   "metadata": {},
   "outputs": [
    {
     "data": {
      "image/png": "[encoded data removed]",
      "text/plain": [
       "<Figure size 432x288 with 1 Axes>"
      ]
     },
     "metadata": {
      "needs_background": "light"
     },
     "output_type": "display_data"
    }
   ],
   "source": [
    "import seaborn as sns;\n",
    "sns.barplot(x = \"Mountain\", y = \"Elevation (m)\", data = data, fill = True)\n",
    "plt.title(\"Mountains in Vancouver Coast\", fontsize = 12)\n",
    "plt.xticks(rotation=270)\n",
    "plt.show();"
   ]
  },
  {
   "cell_type": "markdown",
   "metadata": {},
   "source": [
    "![title](lower_mainland.png)"
   ]
  }
 ],
 "metadata": {
  "kernelspec": {
   "display_name": "Python 3",
   "language": "python",
   "name": "python3"
  },
  "language_info": {
   "codemirror_mode": {
    "name": "ipython",
    "version": 3
   },
   "file_extension": ".py",
   "mimetype": "text/x-python",
   "name": "python",
   "nbconvert_exporter": "python",
   "pygments_lexer": "ipython3",
   "version": "3.6.4"
  }
 },
 "nbformat": 4,
 "nbformat_minor": 4
}
