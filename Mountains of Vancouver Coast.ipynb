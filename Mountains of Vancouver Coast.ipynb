{
 "cells": [
  {
   "cell_type": "markdown",
   "metadata": {},
   "source": [
    "# Mountains in Vancouver Coast"
   ]
  },
  {
   "cell_type": "markdown",
   "metadata": {},
   "source": [
    "Mountains of Southwest (Mainland) BC "
   ]
  },
  {
   "cell_type": "code",
   "execution_count": 1,
   "metadata": {
    "tags": []
   },
   "outputs": [
    {
     "name": "stdout",
     "output_type": "stream",
     "text": [
      "Requirement already up-to-date: seaborn in c:\\users\\jujha\\appdata\\local\\programs\\python\\python36-32\\lib\\site-packages\n",
      "Requirement already up-to-date: pandas>=0.23 in c:\\users\\jujha\\appdata\\local\\programs\\python\\python36-32\\lib\\site-packages (from seaborn)\n",
      "Requirement already up-to-date: scipy>=1.0 in c:\\users\\jujha\\appdata\\local\\programs\\python\\python36-32\\lib\\site-packages (from seaborn)\n",
      "Requirement already up-to-date: numpy>=1.15 in c:\\users\\jujha\\appdata\\local\\programs\\python\\python36-32\\lib\\site-packages (from seaborn)\n",
      "Requirement already up-to-date: matplotlib>=2.2 in c:\\users\\jujha\\appdata\\local\\programs\\python\\python36-32\\lib\\site-packages (from seaborn)\n",
      "Requirement already up-to-date: pytz>=2017.2 in c:\\users\\jujha\\appdata\\local\\programs\\python\\python36-32\\lib\\site-packages (from pandas>=0.23->seaborn)\n",
      "Requirement already up-to-date: python-dateutil>=2.7.3 in c:\\users\\jujha\\appdata\\local\\programs\\python\\python36-32\\lib\\site-packages (from pandas>=0.23->seaborn)\n",
      "Requirement already up-to-date: pillow>=6.2.0 in c:\\users\\jujha\\appdata\\local\\programs\\python\\python36-32\\lib\\site-packages (from matplotlib>=2.2->seaborn)\n",
      "Requirement already up-to-date: cycler>=0.10 in c:\\users\\jujha\\appdata\\local\\programs\\python\\python36-32\\lib\\site-packages (from matplotlib>=2.2->seaborn)\n",
      "Requirement already up-to-date: pyparsing!=2.0.4,!=2.1.2,!=2.1.6,>=2.0.3 in c:\\users\\jujha\\appdata\\local\\programs\\python\\python36-32\\lib\\site-packages (from matplotlib>=2.2->seaborn)\n",
      "Requirement already up-to-date: kiwisolver>=1.0.1 in c:\\users\\jujha\\appdata\\local\\programs\\python\\python36-32\\lib\\site-packages (from matplotlib>=2.2->seaborn)\n",
      "Requirement already up-to-date: six>=1.5 in c:\\users\\jujha\\appdata\\local\\programs\\python\\python36-32\\lib\\site-packages (from python-dateutil>=2.7.3->pandas>=0.23->seaborn)\n"
     ]
    },
    {
     "name": "stderr",
     "output_type": "stream",
     "text": [
      "You are using pip version 9.0.1, however version 21.0.1 is available.\n",
      "You should consider upgrading via the 'python -m pip install --upgrade pip' command.\n"
     ]
    }
   ],
   "source": [
    "! pip install seaborn --upgrade"
   ]
  },
  {
   "cell_type": "code",
   "execution_count": 2,
   "metadata": {},
   "outputs": [
    {
     "data": {
      "text/plain": [
       "'1.1.5'"
      ]
     },
     "execution_count": 2,
     "metadata": {},
     "output_type": "execute_result"
    }
   ],
   "source": [
    "import pandas as pd\n",
    "import numpy as np\n",
    "import matplotlib.pyplot as plt\n",
    "pd.__version__"
   ]
  },
  {
   "cell_type": "code",
   "execution_count": 3,
   "metadata": {},
   "outputs": [
    {
     "data": {
      "text/html": [
       "<div>\n",
       "<style scoped>\n",
       "    .dataframe tbody tr th:only-of-type {\n",
       "        vertical-align: middle;\n",
       "    }\n",
       "\n",
       "    .dataframe tbody tr th {\n",
       "        vertical-align: top;\n",
       "    }\n",
       "\n",
       "    .dataframe thead th {\n",
       "        text-align: right;\n",
       "    }\n",
       "</style>\n",
       "<table border=\"1\" class=\"dataframe\">\n",
       "  <thead>\n",
       "    <tr style=\"text-align: right;\">\n",
       "      <th></th>\n",
       "      <th>Mountain</th>\n",
       "      <th>Elevation (m)</th>\n",
       "    </tr>\n",
       "  </thead>\n",
       "  <tbody>\n",
       "    <tr>\n",
       "      <th>0</th>\n",
       "      <td>West Lion</td>\n",
       "      <td>1654</td>\n",
       "    </tr>\n",
       "    <tr>\n",
       "      <th>1</th>\n",
       "      <td>Grouse</td>\n",
       "      <td>1231</td>\n",
       "    </tr>\n",
       "  </tbody>\n",
       "</table>\n",
       "</div>"
      ],
      "text/plain": [
       "    Mountain  Elevation (m)\n",
       "0  West Lion           1654\n",
       "1     Grouse           1231"
      ]
     },
     "execution_count": 3,
     "metadata": {},
     "output_type": "execute_result"
    }
   ],
   "source": [
    "data=pd.read_csv(\"rebabre__mountains.csv\")\n",
    "data.head()"
   ]
  },
  {
   "cell_type": "markdown",
   "metadata": {},
   "source": [
    "# Mountains in Vancouver Coast"
   ]
  },
  {
   "cell_type": "code",
   "execution_count": 4,
   "metadata": {},
   "outputs": [
    {
     "data": {
      "image/png": "[encoded data removed]",
      "text/plain": [
       "<Figure size 432x288 with 1 Axes>"
      ]
     },
     "metadata": {
      "needs_background": "light"
     },
     "output_type": "display_data"
    }
   ],
   "source": [
    "import seaborn as sns;\n",
    "sns.barplot(x = \"Mountain\", y = \"Elevation (m)\", data = data, fill = True)\n",
    "plt.title(\"Mountains in Vancouver Coast\", fontsize = 12)\n",
    "plt.show();"
   ]
  }
 ],
 "metadata": {
  "kernelspec": {
   "display_name": "Python 3",
   "language": "python",
   "name": "python3"
  },
  "language_info": {
   "codemirror_mode": {
    "name": "ipython",
    "version": 3
   },
   "file_extension": ".py",
   "mimetype": "text/x-python",
   "name": "python",
   "nbconvert_exporter": "python",
   "pygments_lexer": "ipython3",
   "version": "3.6.4"
  }
 },
 "nbformat": 4,
 "nbformat_minor": 4
}
